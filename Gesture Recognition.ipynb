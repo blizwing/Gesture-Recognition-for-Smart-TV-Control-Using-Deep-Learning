{
 "cells": [
  {
   "cell_type": "markdown",
   "metadata": {},
   "source": [
    "# Gesture Recognition"
   ]
  },
  {
   "cell_type": "markdown",
   "metadata": {},
   "source": [
    "#### Import Libraries"
   ]
  },
  {
   "cell_type": "code",
   "execution_count": 1,
   "metadata": {},
   "outputs": [],
   "source": [
    "import numpy as np\n",
    "import os\n",
    "import uuid\n",
    "import random\n",
    "from skimage.io import imread\n",
    "from skimage.transform import resize\n",
    "from PIL import Image\n",
    "import datetime\n",
    "import os\n",
    "import matplotlib.pyplot as plt\n",
    "%matplotlib inline"
   ]
  },
  {
   "cell_type": "markdown",
   "metadata": {},
   "source": [
    "We set the random seed so that the results don't vary drastically."
   ]
  },
  {
   "cell_type": "code",
   "execution_count": 2,
   "metadata": {},
   "outputs": [],
   "source": [
    "np.random.seed(30)\n",
    "import random as rn\n",
    "rn.seed(30)\n",
    "from keras import backend as K\n",
    "import tensorflow as tf\n",
    "tf.random.set_seed(30)"
   ]
  },
  {
   "cell_type": "code",
   "execution_count": 3,
   "metadata": {},
   "outputs": [],
   "source": [
    "# train and validatiaon data creator with ablation\n",
    "def get_data(path, ablation=None):\n",
    "    train_doc = np.random.permutation(open(path+'/train.csv').readlines())\n",
    "    val_doc = np.random.permutation(open(path+'/val.csv').readlines())\n",
    "    counts = np.zeros(5) # count for loading folders for 5 classes\n",
    "    train_data = []\n",
    "    val_data = []\n",
    "    # when ablation is None pass full training and val data\n",
    "    if ablation is not None:\n",
    "        # iterating train doc\n",
    "        for doc in train_doc:\n",
    "            lable = int(doc.strip().split(';')[2])\n",
    "            if counts[lable] < ablation:\n",
    "                train_data.append(doc)\n",
    "                counts[lable] += 1 \n",
    "        counts = np.zeros(5)\n",
    "        # iterating val doc\n",
    "        for doc in val_doc:\n",
    "            lable = int(doc.strip().split(';')[2])\n",
    "            if counts[lable] < ablation:\n",
    "                val_data.append(doc)\n",
    "                counts[lable] += 1\n",
    "    else:\n",
    "        train_data, val_data = train_doc, val_doc\n",
    "    return train_data, val_data"
   ]
  },
  {
   "cell_type": "markdown",
   "metadata": {},
   "source": [
    "In this block, you read the folder names for training and validation. You also set the `batch_size` here. Note that you set the batch size in such a way that you are able to use the GPU in full capacity. You keep increasing the batch size until the machine throws an error."
   ]
  },
  {
   "cell_type": "code",
   "execution_count": 4,
   "metadata": {},
   "outputs": [],
   "source": [
    "base_path = 'datasets/Project_data'\n",
    "train_doc, val_doc = get_data(base_path, ablation=None)\n",
    "batch_size = 64  # Adjust batch size based on GPU capacity\n",
    "enable_augmentation = False # augmentation of Data\n",
    "dim_x, dim_y = 120, 120 \n",
    "seq_idx = range(7,26,2)"
   ]
  },
  {
   "cell_type": "markdown",
   "metadata": {},
   "source": [
    "## Generator"
   ]
  },
  {
   "cell_type": "code",
   "execution_count": 5,
   "metadata": {},
   "outputs": [],
   "source": [
    "# generator with augmentation for train data\n",
    "def generator(source_path, folder_list, batch_size, is_train = False, augmentation = False, debug=False):\n",
    "    img_idx = seq_idx\n",
    "    x = len(img_idx)\n",
    "    y, z = dim_x, dim_y\n",
    "    while True:\n",
    "        # doubling the data for augmentation\n",
    "        if is_train and augmentation:\n",
    "            t = np.concatenate((np.random.permutation(folder_list), np.random.permutation(folder_list)))\n",
    "        else:\n",
    "            t = np.random.permutation(folder_list)\n",
    "            \n",
    "        if (len(t)%batch_size) == 0:\n",
    "            num_batches = int(len(t)/batch_size)\n",
    "        else:\n",
    "            num_batches = len(t)//batch_size + 1\n",
    "            \n",
    "        for batch in range(num_batches): # we iterate over the number of batches\n",
    "            batch_data = np.zeros((batch_size,x,y,z,3)) # x is the number of images you use for each video, (y,z) is the final size of the input images and 3 is the number of channels RGB\n",
    "            batch_labels = np.zeros((batch_size,5)) # batch_labels is the one hot representation of the output\n",
    "            for folder in range(batch_size): # iterate over the batch_size\n",
    "                if debug:\n",
    "                    plt.figure(figsize=(20,5))\n",
    "                #handling remaining datapoints\n",
    "                folder_idx = folder + (batch*batch_size)\n",
    "                if folder_idx >= len(t):\n",
    "                    break\n",
    "                folder_str = t[folder_idx]\n",
    "                imgs = os.listdir(source_path+'/'+ folder_str.split(';')[0]) # read all the images in the folder\n",
    "                # randomly enabling augmentation and augmentation type\n",
    "                aug_type = None\n",
    "                if is_train and augmentation and rn.randint(0,1) == 1:\n",
    "                    aug_type = rn.randint(0, 4) #randomly selecting augmentation type\n",
    "                for idx,item in enumerate(img_idx): #  Iterate iver the frames/images of a folder to read them in\n",
    "                    image = imread(source_path+'/'+ folder_str.strip().split(';')[0]+'/'+imgs[item]).astype(np.float32)\n",
    "\n",
    "                    # plotting original images for debugging purpose only\n",
    "                    if debug:\n",
    "                        plt.subplot(2, x, idx+1)\n",
    "                        plt.imshow(image.astype('uint8'))\n",
    "\n",
    "                    #crop the images and resize them. Note that the images are of 2 different shape \n",
    "                    #and the conv3D will throw error if the inputs in a batch have different shapes\n",
    "                    # making the rectangle images into square by cropping sides\n",
    "                    # so the aspect ration can be mantained while resizing.\n",
    "                    if image.shape[1] > image.shape[0]:\n",
    "                        diff_px = image.shape[1] - image.shape[0]\n",
    "                        crop_start = diff_px//2\n",
    "                        crop_end = crop_start + image.shape[0]\n",
    "                        image = image[:, crop_start:crop_end]\n",
    "                    elif image.shape[0] > image.shape[1]:\n",
    "                        diff_px = image.shape[0] - image.shape[1]\n",
    "                        crop_start = diff_px//2\n",
    "                        crop_end = crop_start + image.shape[1]\n",
    "                        image = image[:, crop_start:crop_end]\n",
    "\n",
    "                    resized_im = resize(image,(y,z))\n",
    "\n",
    "                    if aug_type is not None:\n",
    "                        if aug_type == 0: # edge Enhancement\n",
    "                            resized_im = np.array(Image.fromarray(resized_im, 'RGB').filter(ImageFilter.EDGE_ENHANCE))\n",
    "                        elif aug_type == 1: # adding gaussian blur\n",
    "                            resized_im = np.array(Image.fromarray(resized_im, 'RGB').filter(ImageFilter.GaussianBlur(1)))\n",
    "                        elif aug_type == 2: # enchancing image detailing\n",
    "                            resized_im = np.array(Image.fromarray(resized_im, 'RGB').filter(ImageFilter.DETAIL))\n",
    "                        elif aug_type == 3: # sharpening image\n",
    "                            resized_im = np.array(Image.fromarray(resized_im, 'RGB').filter(ImageFilter.SHARPEN))\n",
    "                        elif aug_type == 4: # Brightness enhancement\n",
    "                            resized_im = np.array(ImageEnhance.Brightness((Image.fromarray(resized_im, 'RGB'))).enhance(1.5))\n",
    "                    # plotting rezised images for debugging purpose only\n",
    "                    if debug:\n",
    "                        plt.subplot(2, x, idx+x+1)\n",
    "                        plt.imshow(resized_im)\n",
    "\n",
    "                    batch_data[folder,idx,:,:,0] = resized_im[:,:,0]/255 #normalise and feed in the image\n",
    "                    batch_data[folder,idx,:,:,1] = resized_im[:,:,1]/255 #normalise and feed in the image\n",
    "                    batch_data[folder,idx,:,:,2] = resized_im[:,:,2]/255 #normalise and feed in the image\n",
    "\n",
    "                batch_labels[folder, int(folder_str.strip().split(';')[2])] = 1\n",
    "            yield batch_data, batch_labels\n",
    "                "
   ]
  },
  {
   "cell_type": "markdown",
   "metadata": {},
   "source": [
    "Note here that a video is represented above in the generator as (number of images, height, width, number of channels). Take this into consideration while creating the model architecture."
   ]
  },
  {
   "cell_type": "code",
   "execution_count": 6,
   "metadata": {},
   "outputs": [
    {
     "name": "stdout",
     "output_type": "stream",
     "text": [
      "# training sequences = 663\n",
      "# validation sequences = 100\n",
      "# epochs = 20\n"
     ]
    }
   ],
   "source": [
    "curr_dt_time = datetime.datetime.now()\n",
    "train_path = base_path + '/train'\n",
    "val_path = base_path + '/val'\n",
    "\n",
    "#multiply number train seq by 2 when using augmentation\n",
    "multiplier = 1\n",
    "if enable_augmentation:\n",
    "    multiplier = 2\n",
    "num_train_sequences = len(train_doc)*multiplier\n",
    "print('# training sequences =', num_train_sequences)\n",
    "\n",
    "num_val_sequences = len(val_doc)\n",
    "print('# validation sequences =', num_val_sequences)\n",
    "\n",
    "num_epochs = 20 #Choose the number of epochs\n",
    "print ('# epochs =', num_epochs)"
   ]
  },
  {
   "cell_type": "markdown",
   "metadata": {},
   "source": [
    "## Model"
   ]
  },
  {
   "cell_type": "code",
   "execution_count": 7,
   "metadata": {},
   "outputs": [],
   "source": [
    "from keras.models import Sequential, Model\n",
    "from keras.layers import Dense, GRU, Flatten, TimeDistributed, Bidirectional, BatchNormalization, Activation, Dropout, GlobalAveragePooling2D, GlobalAveragePooling3D, ConvLSTM2D\n",
    "from keras.layers.convolutional import Conv2D, Conv3D, MaxPooling2D, MaxPooling3D\n",
    "from keras.callbacks import ModelCheckpoint, ReduceLROnPlateau, EarlyStopping\n",
    "from tensorflow.keras.optimizers import Adam\n",
    "\n",
    "#input shape for the st layer\n",
    "input_shape = (len(seq_idx), dim_x, dim_y, 3)\n",
    "np.random.seed(30)"
   ]
  },
  {
   "cell_type": "markdown",
   "metadata": {},
   "source": [
    "#### Experiment 4"
   ]
  },
  {
   "cell_type": "code",
   "execution_count": 8,
   "metadata": {},
   "outputs": [],
   "source": [
    "# # Defining Model\n",
    "# model = Sequential()\n",
    "# model.add(Conv3D(32, kernel_size=3, activation='relu', input_shape=input_shape))\n",
    "# model.add(MaxPooling3D(pool_size=2))\n",
    "\n",
    "# model.add(Conv3D(64, kernel_size=3, activation='relu'))\n",
    "# model.add(MaxPooling3D(pool_size=2))\n",
    "\n",
    "# model.add(Flatten())\n",
    "# model.add(Dense(256, activation='relu'))\n",
    "# model.add(Dense(5, activation='softmax'))"
   ]
  },
  {
   "cell_type": "markdown",
   "metadata": {},
   "source": [
    "#### Experiment 5"
   ]
  },
  {
   "cell_type": "code",
   "execution_count": 9,
   "metadata": {},
   "outputs": [],
   "source": [
    "# model = Sequential()\n",
    "\n",
    "# model.add(Conv3D(32, kernel_size=3, activation='relu', input_shape=input_shape))\n",
    "# model.add(Conv3D(64, kernel_size=3, activation='relu'))\n",
    "# model.add(MaxPooling3D(pool_size=(2, 2, 2)))\n",
    "\n",
    "# model.add(Conv3D(128, kernel_size=3, activation='relu'))\n",
    "# model.add(MaxPooling3D(pool_size=(1, 2, 2)))\n",
    "\n",
    "# model.add(Conv3D(256, kernel_size=(1, 3, 3), activation='relu'))\n",
    "# model.add(MaxPooling3D(pool_size=(1, 2, 2)))\n",
    "\n",
    "# model.add(Conv3D(512, kernel_size=(1, 3, 3), activation='relu'))\n",
    "# model.add(Conv3D(512, kernel_size=(1, 3, 3), activation='relu'))\n",
    "# model.add(MaxPooling3D(pool_size=(1, 2, 2)))\n",
    "\n",
    "# model.add(Flatten())\n",
    "# model.add(Dense(512, activation='relu'))\n",
    "# model.add(Dense(5, activation='softmax'))"
   ]
  },
  {
   "cell_type": "markdown",
   "metadata": {},
   "source": [
    "#### Experiment 6"
   ]
  },
  {
   "cell_type": "code",
   "execution_count": 10,
   "metadata": {},
   "outputs": [],
   "source": [
    "# model = Sequential()\n",
    "\n",
    "# model.add(Conv3D(32, kernel_size=3, activation='relu', input_shape=input_shape))\n",
    "# model.add(Conv3D(64, kernel_size=3, activation='relu'))\n",
    "# model.add(MaxPooling3D(pool_size=(2, 2, 2)))\n",
    "\n",
    "# model.add(Conv3D(128, kernel_size=3, activation='relu'))\n",
    "# model.add(MaxPooling3D(pool_size=(1, 2, 2)))\n",
    "\n",
    "# model.add(Conv3D(256, kernel_size=(1, 3, 3), activation='relu'))\n",
    "# model.add(MaxPooling3D(pool_size=(1, 2, 2)))\n",
    "\n",
    "# model.add(Conv3D(512, kernel_size=(1, 3, 3), activation='relu'))\n",
    "# model.add(Conv3D(512, kernel_size=(1, 3, 3), activation='relu'))\n",
    "# model.add(MaxPooling3D(pool_size=(1, 2, 2)))\n",
    "\n",
    "# model.add(Flatten())\n",
    "# model.add(Dense(512, activation='relu'))\n",
    "# model.add(Dense(5, activation='softmax'))"
   ]
  },
  {
   "cell_type": "markdown",
   "metadata": {},
   "source": [
    "#### Experiment 7"
   ]
  },
  {
   "cell_type": "code",
   "execution_count": 11,
   "metadata": {},
   "outputs": [],
   "source": [
    "# model = Sequential()\n",
    "\n",
    "# model.add(Conv3D(32, kernel_size=3, activation='relu', input_shape=input_shape))\n",
    "# model.add(Conv3D(64, kernel_size=3, activation='relu'))\n",
    "# model.add(MaxPooling3D(pool_size=(2, 2, 2)))\n",
    "# model.add(BatchNormalization())\n",
    "\n",
    "# model.add(Conv3D(128, kernel_size=3, activation='relu'))\n",
    "# model.add(MaxPooling3D(pool_size=(1, 2, 2)))\n",
    "# model.add(BatchNormalization())\n",
    "\n",
    "# model.add(Conv3D(256, kernel_size=(1, 3, 3), activation='relu'))\n",
    "# model.add(MaxPooling3D(pool_size=(1, 2, 2)))\n",
    "# model.add(BatchNormalization())\n",
    "\n",
    "# model.add(Conv3D(512, kernel_size=(1, 3, 3), activation='relu'))\n",
    "# model.add(Conv3D(512, kernel_size=(1, 3, 3), activation='relu'))\n",
    "# model.add(MaxPooling3D(pool_size=(1, 2, 2)))\n",
    "# model.add(BatchNormalization())\n",
    "\n",
    "# model.add(Flatten())\n",
    "# model.add(Dense(512, activation='relu'))\n",
    "# model.add(BatchNormalization())\n",
    "# model.add(Dense(5, activation='softmax'))"
   ]
  },
  {
   "cell_type": "markdown",
   "metadata": {},
   "source": [
    "#### Experiment 8"
   ]
  },
  {
   "cell_type": "code",
   "execution_count": 12,
   "metadata": {},
   "outputs": [],
   "source": [
    "# model = Sequential()\n",
    "\n",
    "# model.add(Conv3D(32, kernel_size=3, activation='relu', input_shape=input_shape))\n",
    "# model.add(Conv3D(64, kernel_size=3, activation='relu'))\n",
    "# model.add(MaxPooling3D(pool_size=(2, 2, 2)))\n",
    "# model.add(BatchNormalization())\n",
    "# model.add(Dropout(0.2))\n",
    "\n",
    "# model.add(Conv3D(128, kernel_size=3, activation='relu'))\n",
    "# model.add(MaxPooling3D(pool_size=(1, 2, 2)))\n",
    "# model.add(BatchNormalization())\n",
    "# model.add(Dropout(0.2))\n",
    "\n",
    "# model.add(Conv3D(256, kernel_size=(1, 3, 3), activation='relu'))\n",
    "# model.add(MaxPooling3D(pool_size=(1, 2, 2)))\n",
    "# model.add(BatchNormalization())\n",
    "# model.add(Dropout(0.2))\n",
    "\n",
    "# model.add(Flatten())\n",
    "# model.add(Dense(512, activation='relu'))\n",
    "# model.add(BatchNormalization())\n",
    "# model.add(Dense(5, activation='softmax'))"
   ]
  },
  {
   "cell_type": "markdown",
   "metadata": {},
   "source": [
    "#### Experiment 9\n",
    "**TimeDistributed Conv2D + GRU**"
   ]
  },
  {
   "cell_type": "code",
   "execution_count": 13,
   "metadata": {},
   "outputs": [],
   "source": [
    "# model = Sequential()\n",
    "# model.add(TimeDistributed(\n",
    "#     Conv2D(32, (3,3), activation='relu'), input_shape=input_shape)\n",
    "# )\n",
    "# model.add(TimeDistributed(\n",
    "#     MaxPooling2D((2,2)))\n",
    "# )\n",
    "# model.add(BatchNormalization())\n",
    "\n",
    "# model.add(TimeDistributed(\n",
    "#     Conv2D(64, (3,3), activation='relu'))\n",
    "# )\n",
    "# model.add(TimeDistributed(\n",
    "#     MaxPooling2D((2,2)))\n",
    "# )\n",
    "# model.add(BatchNormalization())\n",
    "\n",
    "# model.add(TimeDistributed(GlobalAveragePooling2D()))\n",
    "# model.add(TimeDistributed(Dense(64, activation='relu')))\n",
    "# model.add(BatchNormalization())\n",
    "\n",
    "# model.add(GRU(128))\n",
    "# model.add(BatchNormalization())\n",
    "# model.add(Dense(5, activation='softmax'))"
   ]
  },
  {
   "cell_type": "markdown",
   "metadata": {},
   "source": [
    "#### Experiment 10\n",
    "**TimeDistributed Conv2D + Dense**"
   ]
  },
  {
   "cell_type": "code",
   "execution_count": 14,
   "metadata": {},
   "outputs": [],
   "source": [
    "# model = Sequential()\n",
    "# model.add(TimeDistributed(\n",
    "#     Conv2D(32, (3,3), activation='relu'), input_shape=input_shape)\n",
    "# )\n",
    "# model.add(TimeDistributed(\n",
    "#     MaxPooling2D((2,2)))\n",
    "# )\n",
    "# model.add(BatchNormalization())\n",
    "\n",
    "# model.add(TimeDistributed(\n",
    "#     Conv2D(64, (3,3), activation='relu'))\n",
    "# )\n",
    "# model.add(TimeDistributed(\n",
    "#     MaxPooling2D((2,2)))\n",
    "# )\n",
    "# model.add(BatchNormalization())\n",
    "\n",
    "# model.add(TimeDistributed(\n",
    "#     Conv2D(128, (3,3), activation='relu'))\n",
    "# )\n",
    "# model.add(TimeDistributed(\n",
    "#     MaxPooling2D((2,2)))\n",
    "# )\n",
    "# model.add(BatchNormalization())\n",
    "\n",
    "# model.add(GlobalAveragePooling3D())\n",
    "# model.add(Dense(256, activation='relu'))\n",
    "# model.add(BatchNormalization())\n",
    "# model.add(Dense(5, activation='softmax'))"
   ]
  },
  {
   "cell_type": "markdown",
   "metadata": {},
   "source": [
    "#### Experiment 11\n",
    "**TimeDistributed + ConvLSTM2D**"
   ]
  },
  {
   "cell_type": "code",
   "execution_count": 15,
   "metadata": {},
   "outputs": [],
   "source": [
    "# model = Sequential()\n",
    "# model.add(TimeDistributed(\n",
    "#     Conv2D(8, (3,3), activation='relu'), input_shape=input_shape)\n",
    "# )\n",
    "# model.add(BatchNormalization())\n",
    "# model.add(TimeDistributed(\n",
    "#     Conv2D(16, (3,3), activation='relu'))\n",
    "# )\n",
    "# model.add(BatchNormalization())\n",
    "# model.add(\n",
    "#     ConvLSTM2D(8, kernel_size = 3, return_sequences=False)\n",
    "# )\n",
    "# model.add(BatchNormalization())\n",
    "# model.add(TimeDistributed(\n",
    "#     Dense(64, activation='relu'))\n",
    "# )\n",
    "# model.add(BatchNormalization())\n",
    "# model.add(GlobalAveragePooling2D())\n",
    "# model.add(Dense(64, activation='relu'))\n",
    "# model.add(Dense(5, activation='softmax'))"
   ]
  },
  {
   "cell_type": "markdown",
   "metadata": {},
   "source": [
    "#### Experiment 12\n",
    "**TimeDistributed + ConvLSTM2D**"
   ]
  },
  {
   "cell_type": "code",
   "execution_count": 16,
   "metadata": {},
   "outputs": [],
   "source": [
    "# model = Sequential()\n",
    "# model.add(TimeDistributed(\n",
    "#     Conv2D(8, (3,3), activation='relu'), input_shape=input_shape)\n",
    "# )\n",
    "# model.add(BatchNormalization())\n",
    "# model.add(TimeDistributed(\n",
    "#     Conv2D(16, (3,3), activation='relu'))\n",
    "# )\n",
    "# model.add(BatchNormalization())\n",
    "# model.add(\n",
    "#     ConvLSTM2D(8, kernel_size=3, return_sequences=False)\n",
    "# )\n",
    "# model.add(BatchNormalization())\n",
    "# model.add(TimeDistributed(\n",
    "#     Dense(64, activation='relu'))\n",
    "# )\n",
    "# model.add(Dropout(0.5))  # Added dropout for regularization\n",
    "# model.add(BatchNormalization())\n",
    "# model.add(GlobalAveragePooling2D())\n",
    "# model.add(Dense(64, activation='relu'))\n",
    "# model.add(Dropout(0.5))  # Added dropout for regularization\n",
    "# model.add(Dense(5, activation='softmax'))"
   ]
  },
  {
   "cell_type": "markdown",
   "metadata": {},
   "source": [
    "#### Experiment 13\n",
    "**TimeDistributed + ConvLSTM2D**"
   ]
  },
  {
   "cell_type": "code",
   "execution_count": 17,
   "metadata": {},
   "outputs": [],
   "source": [
    "# model = Sequential()\n",
    "\n",
    "# # First Conv Block\n",
    "# model.add(TimeDistributed(Conv2D(16, (3,3), activation='relu', padding='same'), input_shape=input_shape))\n",
    "# model.add(TimeDistributed(BatchNormalization()))\n",
    "# model.add(TimeDistributed(MaxPooling3D((1, 2, 2))))  # Pooling to reduce spatial dimensions\n",
    "\n",
    "# # Second Conv Block\n",
    "# model.add(TimeDistributed(Conv2D(32, (3,3), activation='relu', padding='same')))\n",
    "# model.add(TimeDistributed(BatchNormalization()))\n",
    "# model.add(TimeDistributed(MaxPooling3D((1, 2, 2))))\n",
    "\n",
    "# # ConvLSTM Layer for Temporal Learning\n",
    "# model.add(ConvLSTM2D(32, (3,3), return_sequences=True, padding='same'))\n",
    "# model.add(BatchNormalization())\n",
    "\n",
    "# # Final ConvLSTM Block (Deeper for better learning)\n",
    "# model.add(ConvLSTM2D(64, (3,3), return_sequences=False, padding='same'))\n",
    "# model.add(BatchNormalization())\n",
    "\n",
    "# # Global Pooling & Dense Layers\n",
    "# model.add(GlobalAveragePooling2D())  \n",
    "# model.add(Dense(128, activation='relu'))\n",
    "# model.add(Dropout(0.5))  # Regularization\n",
    "# model.add(Dense(64, activation='relu'))\n",
    "# model.add(Dropout(0.5))\n",
    "# model.add(Dense(5, activation='softmax'))  # Assuming 5 classes\n",
    "\n",
    "# # Compile Model\n",
    "# model.compile(optimizer='adam', loss='categorical_crossentropy', metrics=['accuracy'])\n"
   ]
  },
  {
   "cell_type": "markdown",
   "metadata": {},
   "source": [
    "#### Experiment 14\n",
    "**TimeDistributed + ConvLSTM2D**"
   ]
  },
  {
   "cell_type": "code",
   "execution_count": 18,
   "metadata": {},
   "outputs": [],
   "source": [
    "# model = Sequential()\n",
    "\n",
    "# # First Conv Block (Reduced Filters)\n",
    "# model.add(TimeDistributed(Conv2D(8, (3,3), activation='relu', padding='same'), input_shape=input_shape))\n",
    "# model.add(TimeDistributed(BatchNormalization()))\n",
    "# model.add(TimeDistributed(MaxPooling2D((2, 2))))\n",
    "\n",
    "# # Second Conv Block (Minimal Filters)\n",
    "# model.add(TimeDistributed(Conv2D(16, (3,3), activation='relu', padding='same')))\n",
    "# model.add(TimeDistributed(BatchNormalization()))\n",
    "# model.add(TimeDistributed(MaxPooling2D((2, 2))))\n",
    "\n",
    "# # Lightweight ConvLSTM Layer for Temporal Learning\n",
    "# model.add(ConvLSTM2D(16, (3,3), return_sequences=False, padding='same'))  # Only 1 ConvLSTM to save params\n",
    "# model.add(BatchNormalization())\n",
    "\n",
    "# # Global Pooling & Dense Layers (Reduced Units)\n",
    "# model.add(GlobalAveragePooling2D())  \n",
    "# model.add(Dense(32, activation='relu'))  # Smaller dense layer\n",
    "# model.add(Dropout(0.4))  # Slightly reduced dropout\n",
    "# model.add(Dense(5, activation='softmax'))  # Assuming 5 classes"
   ]
  },
  {
   "cell_type": "markdown",
   "metadata": {},
   "source": [
    "#### Experiment 15\n",
    "**Conv3D**"
   ]
  },
  {
   "cell_type": "code",
   "execution_count": 19,
   "metadata": {},
   "outputs": [
    {
     "name": "stderr",
     "output_type": "stream",
     "text": [
      "2025-01-29 16:46:44.125996: W tensorflow/core/common_runtime/gpu/gpu_bfc_allocator.cc:39] Overriding allow_growth setting because the TF_FORCE_GPU_ALLOW_GROWTH environment variable is set. Original config value was 0.\n",
      "2025-01-29 16:46:44.126086: I tensorflow/core/common_runtime/gpu/gpu_device.cc:1525] Created device /job:localhost/replica:0/task:0/device:GPU:0 with 14800 MB memory:  -> device: 0, name: Quadro RTX 5000, pci bus id: 0000:1d:00.0, compute capability: 7.5\n"
     ]
    }
   ],
   "source": [
    "model = Sequential()\n",
    "\n",
    "# First Conv Block (Reduced Filters)\n",
    "model.add(Conv3D(16, kernel_size=3, activation='relu', padding='same', input_shape=input_shape))\n",
    "model.add(BatchNormalization())\n",
    "model.add(MaxPooling3D(pool_size=(2, 2, 2)))\n",
    "\n",
    "# Second Conv Block\n",
    "model.add(Conv3D(32, kernel_size=3, activation='relu', padding='same'))\n",
    "model.add(BatchNormalization())\n",
    "model.add(MaxPooling3D(pool_size=(1, 2, 2)))  \n",
    "\n",
    "# ConvLSTM for Temporal Learning\n",
    "model.add(ConvLSTM2D(32, kernel_size=(3,3), activation='relu', return_sequences=False, padding='same'))\n",
    "model.add(BatchNormalization())\n",
    "\n",
    "# Global Pooling & Dense Layers (Optimized)\n",
    "model.add(GlobalAveragePooling2D())  \n",
    "model.add(Dense(64, activation='relu'))\n",
    "model.add(Dropout(0.4))  \n",
    "model.add(Dense(5, activation='softmax'))  # Output layer for 5 classes"
   ]
  },
  {
   "cell_type": "markdown",
   "metadata": {},
   "source": [
    "#### Compile The Model"
   ]
  },
  {
   "cell_type": "code",
   "execution_count": 20,
   "metadata": {
    "scrolled": true
   },
   "outputs": [
    {
     "name": "stdout",
     "output_type": "stream",
     "text": [
      "Model: \"sequential\"\n",
      "_________________________________________________________________\n",
      " Layer (type)                Output Shape              Param #   \n",
      "=================================================================\n",
      " conv3d (Conv3D)             (None, 10, 120, 120, 16)  1312      \n",
      "                                                                 \n",
      " batch_normalization (BatchN  (None, 10, 120, 120, 16)  64       \n",
      " ormalization)                                                   \n",
      "                                                                 \n",
      " max_pooling3d (MaxPooling3D  (None, 5, 60, 60, 16)    0         \n",
      " )                                                               \n",
      "                                                                 \n",
      " conv3d_1 (Conv3D)           (None, 5, 60, 60, 32)     13856     \n",
      "                                                                 \n",
      " batch_normalization_1 (Batc  (None, 5, 60, 60, 32)    128       \n",
      " hNormalization)                                                 \n",
      "                                                                 \n",
      " max_pooling3d_1 (MaxPooling  (None, 5, 30, 30, 32)    0         \n",
      " 3D)                                                             \n",
      "                                                                 \n",
      " conv_lstm2d (ConvLSTM2D)    (None, 30, 30, 32)        73856     \n",
      "                                                                 \n",
      " batch_normalization_2 (Batc  (None, 30, 30, 32)       128       \n",
      " hNormalization)                                                 \n",
      "                                                                 \n",
      " global_average_pooling2d (G  (None, 32)               0         \n",
      " lobalAveragePooling2D)                                          \n",
      "                                                                 \n",
      " dense (Dense)               (None, 64)                2112      \n",
      "                                                                 \n",
      " dropout (Dropout)           (None, 64)                0         \n",
      "                                                                 \n",
      " dense_1 (Dense)             (None, 5)                 325       \n",
      "                                                                 \n",
      "=================================================================\n",
      "Total params: 91,781\n",
      "Trainable params: 91,621\n",
      "Non-trainable params: 160\n",
      "_________________________________________________________________\n",
      "None\n"
     ]
    }
   ],
   "source": [
    "optimiser = Adam(learning_rate=0.01)  # Using Adam optimizer\n",
    "model.compile(optimizer=optimiser, loss='categorical_crossentropy', metrics=['categorical_accuracy'])\n",
    "print (model.summary())"
   ]
  },
  {
   "cell_type": "markdown",
   "metadata": {},
   "source": [
    "#### We will define the \n",
    "train_generator and the val_generator"
   ]
  },
  {
   "cell_type": "code",
   "execution_count": 21,
   "metadata": {},
   "outputs": [],
   "source": [
    "train_generator = generator(train_path, train_doc, batch_size, is_train = True, augmentation = enable_augmentation)\n",
    "val_generator = generator(val_path, val_doc, batch_size)"
   ]
  },
  {
   "cell_type": "markdown",
   "metadata": {},
   "source": [
    "##### Moving the created models to a folder with a random Id for better organization"
   ]
  },
  {
   "cell_type": "code",
   "execution_count": 22,
   "metadata": {},
   "outputs": [
    {
     "name": "stdout",
     "output_type": "stream",
     "text": [
      "WARNING:tensorflow:`period` argument is deprecated. Please use `save_freq` to specify the frequency in number of batches seen.\n"
     ]
    }
   ],
   "source": [
    "random_id = str(uuid.uuid4().hex[:6])\n",
    "\n",
    "model_name = 'Models' + '/' + random_id + '/' + 'model_init' + '_' + str(curr_dt_time).replace(' ','').replace(':','_') + '/'\n",
    "os.makedirs(model_name, exist_ok=True)\n",
    "\n",
    "        \n",
    "filepath = model_name + 'model-{epoch:05d}-{loss:.5f}-{categorical_accuracy:.5f}-{val_loss:.5f}-{val_categorical_accuracy:.5f}.h5'\n",
    "\n",
    "checkpoint = ModelCheckpoint(filepath, monitor='val_loss', verbose=1, save_best_only=True, save_weights_only=False, mode='auto', period=1)\n",
    "\n",
    "LR = ReduceLROnPlateau(monitor='val_loss', factor=0.5, patience=3, min_lr=0.001, verbose=1)  # Reduce LR on plateau\n",
    "# Define early stopping\n",
    "ES = EarlyStopping(monitor='val_loss', patience=5, restore_best_weights=True)\n",
    "callbacks_list = [checkpoint, LR, ES]"
   ]
  },
  {
   "cell_type": "markdown",
   "metadata": {},
   "source": [
    "The `steps_per_epoch` and `validation_steps` are used by `.fit` to decide the number of next() calls it need to make."
   ]
  },
  {
   "cell_type": "code",
   "execution_count": 23,
   "metadata": {},
   "outputs": [],
   "source": [
    "if (num_train_sequences%batch_size) == 0:\n",
    "    steps_per_epoch = int(num_train_sequences/batch_size)\n",
    "else:\n",
    "    steps_per_epoch = (num_train_sequences//batch_size) + 1\n",
    "\n",
    "if (num_val_sequences%batch_size) == 0:\n",
    "    validation_steps = int(num_val_sequences/batch_size)\n",
    "else:\n",
    "    validation_steps = (num_val_sequences//batch_size) + 1"
   ]
  },
  {
   "cell_type": "markdown",
   "metadata": {},
   "source": [
    "#### Model Fit"
   ]
  },
  {
   "cell_type": "code",
   "execution_count": 24,
   "metadata": {},
   "outputs": [
    {
     "name": "stdout",
     "output_type": "stream",
     "text": [
      "Epoch 1/20\n"
     ]
    },
    {
     "name": "stderr",
     "output_type": "stream",
     "text": [
      "2025-01-29 16:46:52.071085: I tensorflow/stream_executor/cuda/cuda_dnn.cc:377] Loaded cuDNN version 8302\n"
     ]
    },
    {
     "name": "stdout",
     "output_type": "stream",
     "text": [
      "11/11 [==============================] - ETA: 0s - loss: 1.2948 - categorical_accuracy: 0.3849\n",
      "Epoch 00001: val_loss improved from inf to 25.21007, saving model to Models/a25e86/model_init_2025-01-2916_46_43.165683/model-00001-1.29475-0.38494-25.21007-0.17969.h5\n",
      "11/11 [==============================] - 56s 5s/step - loss: 1.2948 - categorical_accuracy: 0.3849 - val_loss: 25.2101 - val_categorical_accuracy: 0.1797 - lr: 0.0100\n",
      "Epoch 2/20\n",
      "11/11 [==============================] - ETA: 0s - loss: 1.1559 - categorical_accuracy: 0.4162\n",
      "Epoch 00002: val_loss did not improve from 25.21007\n",
      "11/11 [==============================] - 50s 5s/step - loss: 1.1559 - categorical_accuracy: 0.4162 - val_loss: 46.0531 - val_categorical_accuracy: 0.1953 - lr: 0.0100\n",
      "Epoch 3/20\n",
      "11/11 [==============================] - ETA: 0s - loss: 1.3438 - categorical_accuracy: 0.3764\n",
      "Epoch 00003: val_loss did not improve from 25.21007\n",
      "11/11 [==============================] - 53s 5s/step - loss: 1.3438 - categorical_accuracy: 0.3764 - val_loss: 37.6294 - val_categorical_accuracy: 0.1797 - lr: 0.0100\n",
      "Epoch 4/20\n",
      "11/11 [==============================] - ETA: 0s - loss: 1.1383 - categorical_accuracy: 0.3949\n",
      "Epoch 00004: val_loss improved from 25.21007 to 21.27792, saving model to Models/a25e86/model_init_2025-01-2916_46_43.165683/model-00004-1.13831-0.39489-21.27792-0.19531.h5\n",
      "11/11 [==============================] - 50s 5s/step - loss: 1.1383 - categorical_accuracy: 0.3949 - val_loss: 21.2779 - val_categorical_accuracy: 0.1953 - lr: 0.0100\n",
      "Epoch 5/20\n",
      "11/11 [==============================] - ETA: 0s - loss: 1.0925 - categorical_accuracy: 0.4247\n",
      "Epoch 00005: val_loss improved from 21.27792 to 15.15111, saving model to Models/a25e86/model_init_2025-01-2916_46_43.165683/model-00005-1.09249-0.42472-15.15111-0.17969.h5\n",
      "11/11 [==============================] - 51s 5s/step - loss: 1.0925 - categorical_accuracy: 0.4247 - val_loss: 15.1511 - val_categorical_accuracy: 0.1797 - lr: 0.0100\n",
      "Epoch 6/20\n",
      "11/11 [==============================] - ETA: 0s - loss: 1.0534 - categorical_accuracy: 0.4361\n",
      "Epoch 00006: val_loss improved from 15.15111 to 7.58502, saving model to Models/a25e86/model_init_2025-01-2916_46_43.165683/model-00006-1.05344-0.43608-7.58502-0.17969.h5\n",
      "11/11 [==============================] - 48s 5s/step - loss: 1.0534 - categorical_accuracy: 0.4361 - val_loss: 7.5850 - val_categorical_accuracy: 0.1797 - lr: 0.0100\n",
      "Epoch 7/20\n",
      "11/11 [==============================] - ETA: 0s - loss: 1.0471 - categorical_accuracy: 0.4588\n",
      "Epoch 00007: val_loss improved from 7.58502 to 4.85324, saving model to Models/a25e86/model_init_2025-01-2916_46_43.165683/model-00007-1.04709-0.45881-4.85324-0.18750.h5\n",
      "11/11 [==============================] - 49s 5s/step - loss: 1.0471 - categorical_accuracy: 0.4588 - val_loss: 4.8532 - val_categorical_accuracy: 0.1875 - lr: 0.0100\n",
      "Epoch 8/20\n",
      "11/11 [==============================] - ETA: 0s - loss: 1.0360 - categorical_accuracy: 0.4489\n",
      "Epoch 00008: val_loss improved from 4.85324 to 2.28340, saving model to Models/a25e86/model_init_2025-01-2916_46_43.165683/model-00008-1.03601-0.44886-2.28340-0.15625.h5\n",
      "11/11 [==============================] - 48s 5s/step - loss: 1.0360 - categorical_accuracy: 0.4489 - val_loss: 2.2834 - val_categorical_accuracy: 0.1562 - lr: 0.0100\n",
      "Epoch 9/20\n",
      "11/11 [==============================] - ETA: 0s - loss: 1.0977 - categorical_accuracy: 0.4347\n",
      "Epoch 00009: val_loss improved from 2.28340 to 1.30650, saving model to Models/a25e86/model_init_2025-01-2916_46_43.165683/model-00009-1.09765-0.43466-1.30650-0.17188.h5\n",
      "11/11 [==============================] - 49s 5s/step - loss: 1.0977 - categorical_accuracy: 0.4347 - val_loss: 1.3065 - val_categorical_accuracy: 0.1719 - lr: 0.0100\n",
      "Epoch 10/20\n",
      "11/11 [==============================] - ETA: 0s - loss: 1.0893 - categorical_accuracy: 0.4688\n",
      "Epoch 00010: val_loss did not improve from 1.30650\n",
      "11/11 [==============================] - 47s 5s/step - loss: 1.0893 - categorical_accuracy: 0.4688 - val_loss: 1.6151 - val_categorical_accuracy: 0.2188 - lr: 0.0100\n",
      "Epoch 11/20\n",
      "11/11 [==============================] - ETA: 0s - loss: 1.3408 - categorical_accuracy: 0.4034\n",
      "Epoch 00011: val_loss did not improve from 1.30650\n",
      "11/11 [==============================] - 50s 5s/step - loss: 1.3408 - categorical_accuracy: 0.4034 - val_loss: 1.6895 - val_categorical_accuracy: 0.1406 - lr: 0.0100\n",
      "Epoch 12/20\n",
      "11/11 [==============================] - ETA: 0s - loss: 1.2956 - categorical_accuracy: 0.3778\n",
      "Epoch 00012: val_loss did not improve from 1.30650\n",
      "\n",
      "Epoch 00012: ReduceLROnPlateau reducing learning rate to 0.004999999888241291.\n",
      "11/11 [==============================] - 47s 5s/step - loss: 1.2956 - categorical_accuracy: 0.3778 - val_loss: 1.4559 - val_categorical_accuracy: 0.2500 - lr: 0.0100\n",
      "Epoch 13/20\n",
      "11/11 [==============================] - ETA: 0s - loss: 1.2816 - categorical_accuracy: 0.3963\n",
      "Epoch 00013: val_loss improved from 1.30650 to 1.30450, saving model to Models/a25e86/model_init_2025-01-2916_46_43.165683/model-00013-1.28158-0.39631-1.30450-0.17188.h5\n",
      "11/11 [==============================] - 49s 5s/step - loss: 1.2816 - categorical_accuracy: 0.3963 - val_loss: 1.3045 - val_categorical_accuracy: 0.1719 - lr: 0.0050\n",
      "Epoch 14/20\n",
      "11/11 [==============================] - ETA: 0s - loss: 1.3316 - categorical_accuracy: 0.4233\n",
      "Epoch 00014: val_loss improved from 1.30450 to 1.27729, saving model to Models/a25e86/model_init_2025-01-2916_46_43.165683/model-00014-1.33158-0.42330-1.27729-0.21094.h5\n",
      "11/11 [==============================] - 49s 5s/step - loss: 1.3316 - categorical_accuracy: 0.4233 - val_loss: 1.2773 - val_categorical_accuracy: 0.2109 - lr: 0.0050\n",
      "Epoch 15/20\n",
      "11/11 [==============================] - ETA: 0s - loss: 1.2722 - categorical_accuracy: 0.3920\n",
      "Epoch 00015: val_loss did not improve from 1.27729\n",
      "11/11 [==============================] - 50s 5s/step - loss: 1.2722 - categorical_accuracy: 0.3920 - val_loss: 1.5377 - val_categorical_accuracy: 0.1875 - lr: 0.0050\n",
      "Epoch 16/20\n",
      "11/11 [==============================] - ETA: 0s - loss: 1.3280 - categorical_accuracy: 0.4062\n",
      "Epoch 00016: val_loss improved from 1.27729 to 1.21646, saving model to Models/a25e86/model_init_2025-01-2916_46_43.165683/model-00016-1.32795-0.40625-1.21646-0.15625.h5\n",
      "11/11 [==============================] - 48s 5s/step - loss: 1.3280 - categorical_accuracy: 0.4062 - val_loss: 1.2165 - val_categorical_accuracy: 0.1562 - lr: 0.0050\n",
      "Epoch 17/20\n",
      "11/11 [==============================] - ETA: 0s - loss: 1.3802 - categorical_accuracy: 0.4233\n",
      "Epoch 00017: val_loss did not improve from 1.21646\n",
      "11/11 [==============================] - 50s 5s/step - loss: 1.3802 - categorical_accuracy: 0.4233 - val_loss: 1.3852 - val_categorical_accuracy: 0.1797 - lr: 0.0050\n",
      "Epoch 18/20\n",
      "11/11 [==============================] - ETA: 0s - loss: 1.4285 - categorical_accuracy: 0.4077\n",
      "Epoch 00018: val_loss did not improve from 1.21646\n",
      "11/11 [==============================] - 48s 5s/step - loss: 1.4285 - categorical_accuracy: 0.4077 - val_loss: 1.9989 - val_categorical_accuracy: 0.1797 - lr: 0.0050\n",
      "Epoch 19/20\n",
      "11/11 [==============================] - ETA: 0s - loss: 1.6468 - categorical_accuracy: 0.3679\n",
      "Epoch 00019: val_loss did not improve from 1.21646\n",
      "\n",
      "Epoch 00019: ReduceLROnPlateau reducing learning rate to 0.0024999999441206455.\n",
      "11/11 [==============================] - 50s 5s/step - loss: 1.6468 - categorical_accuracy: 0.3679 - val_loss: 2.4224 - val_categorical_accuracy: 0.1328 - lr: 0.0050\n",
      "Epoch 20/20\n",
      "11/11 [==============================] - ETA: 0s - loss: 1.5279 - categorical_accuracy: 0.4034\n",
      "Epoch 00020: val_loss did not improve from 1.21646\n",
      "11/11 [==============================] - 48s 5s/step - loss: 1.5279 - categorical_accuracy: 0.4034 - val_loss: 1.3418 - val_categorical_accuracy: 0.3672 - lr: 0.0025\n",
      "CPU times: user 23min 40s, sys: 27min 56s, total: 51min 37s\n",
      "Wall time: 16min 35s\n"
     ]
    }
   ],
   "source": [
    "%%time\n",
    "history = model.fit(train_generator, steps_per_epoch=steps_per_epoch, epochs=num_epochs, verbose=1, \n",
    "                        callbacks=callbacks_list, validation_data=val_generator, \n",
    "                        validation_steps=validation_steps, class_weight=None, workers=1, initial_epoch=0)"
   ]
  },
  {
   "cell_type": "code",
   "execution_count": 25,
   "metadata": {},
   "outputs": [
    {
     "data": {
      "text/plain": [
       "<matplotlib.legend.Legend at 0x7f6ecd680400>"
      ]
     },
     "execution_count": 25,
     "metadata": {},
     "output_type": "execute_result"
    },
    {
     "data": {
      "image/png": "[encoded data removed]",
      "text/plain": [
       "<Figure size 1440x432 with 2 Axes>"
      ]
     },
     "metadata": {
      "needs_background": "light"
     },
     "output_type": "display_data"
    }
   ],
   "source": [
    "plt.figure(figsize=(20,6))\n",
    "ax1 = plt.subplot(121)\n",
    "ax1 = plt.plot(history.history['loss'])\n",
    "ax1 = plt.plot(history.history['val_loss'])\n",
    "plt.title('model loss')\n",
    "plt.ylabel('loss')\n",
    "plt.xlabel('epoch')\n",
    "plt.legend(['train', 'validation'], loc='lower left')\n",
    "ax2 = plt.subplot(122)\n",
    "ax2 = plt.plot(history.history['categorical_accuracy'])\n",
    "ax2 = plt.plot(history.history['val_categorical_accuracy'])\n",
    "plt.title('model accuracy')\n",
    "plt.ylabel('categorical_accuracy')\n",
    "plt.xlabel('epoch')\n",
    "plt.legend(['train', 'validation'], loc='lower left')"
   ]
  }
 ],
 "metadata": {
  "kernelspec": {
   "display_name": "Python 3 (ipykernel)",
   "language": "python",
   "name": "python3"
  },
  "language_info": {
   "codemirror_mode": {
    "name": "ipython",
    "version": 3
   },
   "file_extension": ".py",
   "mimetype": "text/x-python",
   "name": "python",
   "nbconvert_exporter": "python",
   "pygments_lexer": "ipython3",
   "version": "3.8.10"
  }
 },
 "nbformat": 4,
 "nbformat_minor": 4
}
